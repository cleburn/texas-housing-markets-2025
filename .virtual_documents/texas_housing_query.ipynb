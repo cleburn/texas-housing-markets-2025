import sys
!{sys.executable} -m pip install pandas_datareader yfinance fredapi --quiet


import pandas_datareader.data as web
import yfinance as yf
import pandas as pd
from datetime import datetime

print("✅ All libraries imported successfully!")


start = datetime(2019, 1, 1)
end = datetime.today()


# Texas All-Transactions House Price Index (Quarterly)
df_tx_hpi = web.DataReader("TXSTHPI", "fred", start, end)
df_tx_hpi.rename(columns={"TXSTHPI": "Texas_HPI"}, inplace=True)
df_tx_hpi.tail()





# Texas All-Transactions House Price Index (Quarterly)
df_tx_hpi = web.DataReader("TXSTHPI", "fred", start, end)

# 30-Year Fixed Mortgage Rate (Weekly)
df_mortgage = web.DataReader("MORTGAGE30US", "fred", start, end)

# National Median Household Income (Annual)
df_income = web.DataReader("MEHOINUSA672N", "fred", start, end)

# Merge them together
df_merged = pd.concat([df_tx_hpi, df_mortgage, df_income], axis=1)
df_merged.columns = ["Texas_HPI", "Mortgage_30Y", "US_Income"]

df_merged.tail()


#forward-fill missing values
df_aligned = df_merged.ffill()
df_aligned.tail()


#resample to monthly averages
df_monthly = df_merged.resample('M').mean()
df_monthly.tail()


import matplotlib.pyplot as plt

df_merged.plot(subplots=True, figsize=(10, 6), title=["Texas HPI", "Mortgage Rate", "Income"])
plt.tight_layout()
plt.show()


#forward-fill missing values
df_filled = df_merged.ffill()
df_filled.plot(subplots=True, figsize=(10,6), title=["Texas HPI","Mortgage Rate","Income"])
plt.tight_layout()
plt.show()


#resample to monthly averages
df_monthly = df_merged.resample('M').mean().ffill()
df_monthly.plot(subplots=True, figsize=(10,6), title=["Texas HPI","Mortgage Rate","Income"])
plt.tight_layout()
plt.show()


#plot on shared Y axis for comparison
df_monthly.plot(figsize=(10,5))
plt.title("Texas Housing & Economic Indicators")
plt.ylabel("Index / Rate / Income ($)")
plt.show()








# Normalize and overlay indicators for comparison
import matplotlib.pyplot as plt

# Create a new figure and plot the normalized data
fig, ax = plt.subplots(figsize=(10,6))
ax.plot(df_normalized.index, df_normalized['Texas_HPI'], label='Texas HPI (Housing Prices)', linewidth=2)
ax.plot(df_normalized.index, df_normalized['Mortgage_30Y'], label='30-Year Mortgage Rate', linewidth=2)
ax.plot(df_normalized.index, df_normalized['US_Income'], label='US Median Income', linewidth=2)

# Format
ax.set_title("Texas Housing Market – Relative Trends (Normalized 0–1 Scale)", fontsize=14)
ax.set_xlabel("Year")
ax.set_ylabel("Relative Scale (0–1)")
ax.legend()
ax.grid(True, alpha=0.3)
fig.tight_layout()

# Save the figure BEFORE displaying it
fig.savefig("images/relative_trends.png", dpi=300, bbox_inches='tight')
plt.show()
